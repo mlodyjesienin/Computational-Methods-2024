{
 "cells": [
  {
   "cell_type": "code",
   "execution_count": 1,
   "metadata": {},
   "outputs": [],
   "source": [
    "import mpmath as mp "
   ]
  },
  {
   "cell_type": "code",
   "execution_count": 2,
   "metadata": {},
   "outputs": [],
   "source": [
    "def f1(x):\n",
    "    return mp.cos(x)*mp.cosh(x) - 1\n",
    "\n",
    "def f1prim(x):\n",
    "    return mp.cos(x)*mp.sinh(x) - mp.sin(x)*mp.cosh(x)\n",
    "\n",
    "\n",
    "def f2(x):\n",
    "    return mp.power(x,-1) - mp.tan(x)\n",
    "\n",
    "def f2prim(x):\n",
    "    return -mp.power(x,-2) - mp.power(mp.cos(x),-2)\n",
    "\n",
    "def f3(x):\n",
    "    return mp.power(2,-x) + mp.power(mp.e,x) + 2*mp.cos(x) - 6\n",
    "\n",
    "def f3prim(x):\n",
    "    return mp.power(mp.e,x) - mp.power(2,-x)*mp.log(2) -2*mp.sin(x)\n",
    "\n",
    "def aproximate_derivative_f(f,x1,x2):\n",
    "    return (f(x1)-f(x2))/(x1-x2) \n",
    "\n",
    "def sgn(a):\n",
    "    if a >0:\n",
    "        return 1\n",
    "    if a <0:\n",
    "        return -1\n",
    "    return 0 \n",
    "\n",
    "def bisection(f,a,b,eps,counter = 0,delta =1e-5):\n",
    "    #if b-a < delta:\n",
    "    #    return b,counter \n",
    "    counter+=1\n",
    "    mid = (a+b)/2 \n",
    "    if abs(f(mid)) < eps:\n",
    "        return mid, counter\n",
    "    if sgn(f(mid)) == sgn(f(a)):\n",
    "        return bisection(f,mid,b,eps,counter) \n",
    "     \n",
    "    return bisection(f,a,mid,eps,counter)\n",
    "\n",
    "\n",
    "def newton_method(f,fprim,a,b,eps,counter=0):\n",
    "    counter+=1\n",
    "    if abs(f(b)) < eps:\n",
    "        return b,counter \n",
    "    x = b-(f(b)/fprim(b))\n",
    "    return newton_method(f,fprim,a,x,eps,counter)\n",
    "\n",
    "def secant_method(f,a,b,eps,counter=0):\n",
    "    counter+=1\n",
    "    if abs(f(b)) < eps: \n",
    "        return b,counter \n",
    "    x = b - f(b)*(b-a)/(f(b)-f(a))\n",
    "    return secant_method(f,b,x,eps,counter) "
   ]
  },
  {
   "cell_type": "code",
   "execution_count": 4,
   "metadata": {},
   "outputs": [
    {
     "name": "stdout",
     "output_type": "stream",
     "text": [
      "metoda bisekcji: znalezione miejsce zerowe:  4.7300407448627  liczba iteracji:  47\n",
      "metoda stycznych: znalezione miejsce zerowe:  4.7300407448627  liczba iteracji:  8\n",
      "metoda siecznych: znalezione miejsce zerowe:  4.7300407448627  liczba iteracji:  7\n"
     ]
    }
   ],
   "source": [
    "a1 = 3/2 * mp.pi\n",
    "b1 = 2*mp.pi \n",
    "eps = 1e-13\n",
    "result, counter = bisection(f1,a1,b1,eps)\n",
    "print(\"metoda bisekcji: znalezione miejsce zerowe: \",result,\" liczba iteracji: \",counter) \n",
    "\n",
    "result, counter = newton_method(f1,f1prim,a1,b1,eps)\n",
    "print(\"metoda stycznych: znalezione miejsce zerowe: \",result,\" liczba iteracji: \",counter) \n",
    "\n",
    "result, counter = secant_method(f1,a1,b1,eps)\n",
    "print(\"metoda siecznych: znalezione miejsce zerowe: \",result,\" liczba iteracji: \",counter) "
   ]
  },
  {
   "cell_type": "code",
   "execution_count": 6,
   "metadata": {},
   "outputs": [
    {
     "name": "stdout",
     "output_type": "stream",
     "text": [
      "metoda bisekcji: znalezione miejsce zerowe:  0.860333589019393  liczba iteracji:  45\n",
      "metoda stycznych: znalezione miejsce zerowe:  0.86033358901938  liczba iteracji:  28\n",
      "metoda siecznych znalezione miejsce zerowe:  0.86033358901938  liczba iteracji:  22\n"
     ]
    }
   ],
   "source": [
    "a2 = 0 + 1e-3\n",
    "b2 = mp.pi/2 -1e-7\n",
    "eps = 1e-13\n",
    "\n",
    "result, counter = bisection(f2,a2,b2,eps)\n",
    "print(\"metoda bisekcji: znalezione miejsce zerowe: \",result,\" liczba iteracji: \",counter) \n",
    "\n",
    "result, counter = newton_method(f2,f2prim,a2,b2,eps)\n",
    "print(\"metoda stycznych: znalezione miejsce zerowe: \",result,\" liczba iteracji: \",counter) \n",
    "\n",
    "result, counter = secant_method(f2,a2,b2,eps)\n",
    "print(\"metoda siecznych znalezione miejsce zerowe: \",result,\" liczba iteracji: \",counter) \n",
    "\n"
   ]
  },
  {
   "cell_type": "code",
   "execution_count": 7,
   "metadata": {},
   "outputs": [
    {
     "name": "stdout",
     "output_type": "stream",
     "text": [
      "metoda bisekcji: znalezione miejsce zerowe:  1.8293836019338414  liczba iteracji:  41\n",
      "metoda stycznych: znalezione miejsce zerowe:  1.82938360193386  liczba iteracji:  7\n",
      "metoda siecznych: znalezione miejsce zerowe:  1.82938360193385  liczba iteracji:  11\n"
     ]
    }
   ],
   "source": [
    "a3 = 1\n",
    "b3 = 3 \n",
    "eps = 1e-13\n",
    "\n",
    "result, counter = bisection(f3,a3,b3,eps)\n",
    "print(\"metoda bisekcji: znalezione miejsce zerowe: \",result,\" liczba iteracji: \",counter) \n",
    "\n",
    "result, counter = newton_method(f3,f3prim,a3,b3,eps)\n",
    "print(\"metoda stycznych: znalezione miejsce zerowe: \",result,\" liczba iteracji: \",counter) \n",
    "\n",
    "result, counter = secant_method(f3,a3,b3,eps)\n",
    "print(\"metoda siecznych: znalezione miejsce zerowe: \",result,\" liczba iteracji: \",counter)"
   ]
  }
 ],
 "metadata": {
  "kernelspec": {
   "display_name": "Python 3",
   "language": "python",
   "name": "python3"
  },
  "language_info": {
   "codemirror_mode": {
    "name": "ipython",
    "version": 3
   },
   "file_extension": ".py",
   "mimetype": "text/x-python",
   "name": "python",
   "nbconvert_exporter": "python",
   "pygments_lexer": "ipython3",
   "version": "3.10.12"
  }
 },
 "nbformat": 4,
 "nbformat_minor": 2
}
