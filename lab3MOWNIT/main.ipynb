{
 "cells": [
  {
   "cell_type": "code",
   "execution_count": 1,
   "metadata": {},
   "outputs": [],
   "source": [
    "import mpmath as mp"
   ]
  },
  {
   "cell_type": "code",
   "execution_count": 62,
   "metadata": {},
   "outputs": [],
   "source": [
    "\n",
    "def f1(x):\n",
    "    return mp.cos(x)*mp.cosh(x) - 1\n",
    "\n",
    "def f1prim(x):\n",
    "    return mp.cos(x)*mp.sinh(x) - mp.sin(x)*mp.cosh(x)\n",
    "\n",
    "\n",
    "def f2(x):\n",
    "    return mp.power(x,-1) - mp.tan(x)\n",
    "\n",
    "def f2prim(x):\n",
    "    return -mp.power(x,-2) - mp.power(mp.cos(x),-2)\n",
    "\n",
    "def f3(x):\n",
    "    return mp.power(2,-x) + mp.power(mp.e,x) + 2*mp.cos(x) - 6\n",
    "\n",
    "def f3prim(x):\n",
    "    return mp.power(mp.e,x) - mp.power(2,-x)*mp.log(2) -2*mp.sin(x)\n",
    "\n",
    "def aproximate_derivative_f(f,x1,x2):\n",
    "    return (f(x1)-f(x2))/(x1-x2) \n",
    "\n",
    "def sgn(a):\n",
    "    if a >0:\n",
    "        return 1\n",
    "    if a <0:\n",
    "        return -1\n",
    "    return 0 \n",
    "\n",
    "def bisection(f,a,b,eps,counter = 0,delta =1e-5):\n",
    "    #if b-a < delta:\n",
    "    #    return b,counter \n",
    "    counter+=1\n",
    "    mid = (a+b)/2 \n",
    "    if abs(f(mid)) < eps:\n",
    "        return mid, counter\n",
    "    if sgn(f(mid)) == sgn(f(a)):\n",
    "        return bisection(f,mid,b,eps,counter) \n",
    "     \n",
    "    return bisection(f,a,mid,eps,counter)\n",
    "\n",
    "\n",
    "def newton_method(f,fprim,a,b,eps,counter=0):\n",
    "    counter+=1\n",
    "    if abs(f(b)) < eps:\n",
    "        return b,counter \n",
    "    x = b-(f(b)/fprim(b))\n",
    "    return newton_method(f,fprim,a,x,eps,counter)\n",
    "\n",
    "def secant_method(f,a,b,eps,counter=0):\n",
    "    counter+=1\n",
    "    if abs(f(b)) < eps: \n",
    "        return b,counter \n",
    "    x = b - f(b)*(b-a)/(f(b)-f(a))\n",
    "    return secant_method(f,b,x,eps,counter) \n",
    "\n"
   ]
  },
  {
   "cell_type": "code",
   "execution_count": 66,
   "metadata": {},
   "outputs": [
    {
     "ename": "RecursionError",
     "evalue": "maximum recursion depth exceeded in comparison",
     "output_type": "error",
     "traceback": [
      "\u001b[0;31m---------------------------------------------------------------------------\u001b[0m",
      "\u001b[0;31mRecursionError\u001b[0m                            Traceback (most recent call last)",
      "Cell \u001b[0;32mIn[66], line 4\u001b[0m\n\u001b[1;32m      2\u001b[0m b1 \u001b[38;5;241m=\u001b[39m \u001b[38;5;241m2\u001b[39m\u001b[38;5;241m*\u001b[39mmp\u001b[38;5;241m.\u001b[39mpi \n\u001b[1;32m      3\u001b[0m eps \u001b[38;5;241m=\u001b[39m \u001b[38;5;241m1e-14\u001b[39m\n\u001b[0;32m----> 4\u001b[0m result, counter \u001b[38;5;241m=\u001b[39m \u001b[43mbisection\u001b[49m\u001b[43m(\u001b[49m\u001b[43mf1\u001b[49m\u001b[43m,\u001b[49m\u001b[43ma1\u001b[49m\u001b[43m,\u001b[49m\u001b[43mb1\u001b[49m\u001b[43m,\u001b[49m\u001b[43meps\u001b[49m\u001b[43m)\u001b[49m\n\u001b[1;32m      5\u001b[0m \u001b[38;5;28mprint\u001b[39m(\u001b[38;5;124m\"\u001b[39m\u001b[38;5;124mmetoda bisekcji: znalezione miejsce zerowe: \u001b[39m\u001b[38;5;124m\"\u001b[39m,result,\u001b[38;5;124m\"\u001b[39m\u001b[38;5;124m liczba iteracji: \u001b[39m\u001b[38;5;124m\"\u001b[39m,counter) \n\u001b[1;32m      7\u001b[0m result, counter \u001b[38;5;241m=\u001b[39m newton_method(f1,f1prim,a1,b1,eps)\n",
      "Cell \u001b[0;32mIn[62], line 40\u001b[0m, in \u001b[0;36mbisection\u001b[0;34m(f, a, b, eps, counter, delta)\u001b[0m\n\u001b[1;32m     37\u001b[0m \u001b[38;5;28;01mif\u001b[39;00m sgn(f(mid)) \u001b[38;5;241m==\u001b[39m sgn(f(a)):\n\u001b[1;32m     38\u001b[0m     \u001b[38;5;28;01mreturn\u001b[39;00m bisection(f,mid,b,eps,counter) \n\u001b[0;32m---> 40\u001b[0m \u001b[38;5;28;01mreturn\u001b[39;00m \u001b[43mbisection\u001b[49m\u001b[43m(\u001b[49m\u001b[43mf\u001b[49m\u001b[43m,\u001b[49m\u001b[43ma\u001b[49m\u001b[43m,\u001b[49m\u001b[43mmid\u001b[49m\u001b[43m,\u001b[49m\u001b[43meps\u001b[49m\u001b[43m,\u001b[49m\u001b[43mcounter\u001b[49m\u001b[43m)\u001b[49m\n",
      "Cell \u001b[0;32mIn[62], line 40\u001b[0m, in \u001b[0;36mbisection\u001b[0;34m(f, a, b, eps, counter, delta)\u001b[0m\n\u001b[1;32m     37\u001b[0m \u001b[38;5;28;01mif\u001b[39;00m sgn(f(mid)) \u001b[38;5;241m==\u001b[39m sgn(f(a)):\n\u001b[1;32m     38\u001b[0m     \u001b[38;5;28;01mreturn\u001b[39;00m bisection(f,mid,b,eps,counter) \n\u001b[0;32m---> 40\u001b[0m \u001b[38;5;28;01mreturn\u001b[39;00m \u001b[43mbisection\u001b[49m\u001b[43m(\u001b[49m\u001b[43mf\u001b[49m\u001b[43m,\u001b[49m\u001b[43ma\u001b[49m\u001b[43m,\u001b[49m\u001b[43mmid\u001b[49m\u001b[43m,\u001b[49m\u001b[43meps\u001b[49m\u001b[43m,\u001b[49m\u001b[43mcounter\u001b[49m\u001b[43m)\u001b[49m\n",
      "    \u001b[0;31m[... skipping similar frames: bisection at line 40 (4 times)]\u001b[0m\n",
      "Cell \u001b[0;32mIn[62], line 38\u001b[0m, in \u001b[0;36mbisection\u001b[0;34m(f, a, b, eps, counter, delta)\u001b[0m\n\u001b[1;32m     36\u001b[0m     \u001b[38;5;28;01mreturn\u001b[39;00m mid, counter\n\u001b[1;32m     37\u001b[0m \u001b[38;5;28;01mif\u001b[39;00m sgn(f(mid)) \u001b[38;5;241m==\u001b[39m sgn(f(a)):\n\u001b[0;32m---> 38\u001b[0m     \u001b[38;5;28;01mreturn\u001b[39;00m \u001b[43mbisection\u001b[49m\u001b[43m(\u001b[49m\u001b[43mf\u001b[49m\u001b[43m,\u001b[49m\u001b[43mmid\u001b[49m\u001b[43m,\u001b[49m\u001b[43mb\u001b[49m\u001b[43m,\u001b[49m\u001b[43meps\u001b[49m\u001b[43m,\u001b[49m\u001b[43mcounter\u001b[49m\u001b[43m)\u001b[49m \n\u001b[1;32m     40\u001b[0m \u001b[38;5;28;01mreturn\u001b[39;00m bisection(f,a,mid,eps,counter)\n",
      "    \u001b[0;31m[... skipping similar frames: bisection at line 40 (1 times)]\u001b[0m\n",
      "Cell \u001b[0;32mIn[62], line 38\u001b[0m, in \u001b[0;36mbisection\u001b[0;34m(f, a, b, eps, counter, delta)\u001b[0m\n\u001b[1;32m     36\u001b[0m     \u001b[38;5;28;01mreturn\u001b[39;00m mid, counter\n\u001b[1;32m     37\u001b[0m \u001b[38;5;28;01mif\u001b[39;00m sgn(f(mid)) \u001b[38;5;241m==\u001b[39m sgn(f(a)):\n\u001b[0;32m---> 38\u001b[0m     \u001b[38;5;28;01mreturn\u001b[39;00m \u001b[43mbisection\u001b[49m\u001b[43m(\u001b[49m\u001b[43mf\u001b[49m\u001b[43m,\u001b[49m\u001b[43mmid\u001b[49m\u001b[43m,\u001b[49m\u001b[43mb\u001b[49m\u001b[43m,\u001b[49m\u001b[43meps\u001b[49m\u001b[43m,\u001b[49m\u001b[43mcounter\u001b[49m\u001b[43m)\u001b[49m \n\u001b[1;32m     40\u001b[0m \u001b[38;5;28;01mreturn\u001b[39;00m bisection(f,a,mid,eps,counter)\n",
      "    \u001b[0;31m[... skipping similar frames: bisection at line 38 (22 times), bisection at line 40 (19 times)]\u001b[0m\n",
      "Cell \u001b[0;32mIn[62], line 40\u001b[0m, in \u001b[0;36mbisection\u001b[0;34m(f, a, b, eps, counter, delta)\u001b[0m\n\u001b[1;32m     37\u001b[0m \u001b[38;5;28;01mif\u001b[39;00m sgn(f(mid)) \u001b[38;5;241m==\u001b[39m sgn(f(a)):\n\u001b[1;32m     38\u001b[0m     \u001b[38;5;28;01mreturn\u001b[39;00m bisection(f,mid,b,eps,counter) \n\u001b[0;32m---> 40\u001b[0m \u001b[38;5;28;01mreturn\u001b[39;00m \u001b[43mbisection\u001b[49m\u001b[43m(\u001b[49m\u001b[43mf\u001b[49m\u001b[43m,\u001b[49m\u001b[43ma\u001b[49m\u001b[43m,\u001b[49m\u001b[43mmid\u001b[49m\u001b[43m,\u001b[49m\u001b[43meps\u001b[49m\u001b[43m,\u001b[49m\u001b[43mcounter\u001b[49m\u001b[43m)\u001b[49m\n",
      "    \u001b[0;31m[... skipping similar frames: bisection at line 38 (2911 times)]\u001b[0m\n",
      "Cell \u001b[0;32mIn[62], line 38\u001b[0m, in \u001b[0;36mbisection\u001b[0;34m(f, a, b, eps, counter, delta)\u001b[0m\n\u001b[1;32m     36\u001b[0m     \u001b[38;5;28;01mreturn\u001b[39;00m mid, counter\n\u001b[1;32m     37\u001b[0m \u001b[38;5;28;01mif\u001b[39;00m sgn(f(mid)) \u001b[38;5;241m==\u001b[39m sgn(f(a)):\n\u001b[0;32m---> 38\u001b[0m     \u001b[38;5;28;01mreturn\u001b[39;00m \u001b[43mbisection\u001b[49m\u001b[43m(\u001b[49m\u001b[43mf\u001b[49m\u001b[43m,\u001b[49m\u001b[43mmid\u001b[49m\u001b[43m,\u001b[49m\u001b[43mb\u001b[49m\u001b[43m,\u001b[49m\u001b[43meps\u001b[49m\u001b[43m,\u001b[49m\u001b[43mcounter\u001b[49m\u001b[43m)\u001b[49m \n\u001b[1;32m     40\u001b[0m \u001b[38;5;28;01mreturn\u001b[39;00m bisection(f,a,mid,eps,counter)\n",
      "Cell \u001b[0;32mIn[62], line 35\u001b[0m, in \u001b[0;36mbisection\u001b[0;34m(f, a, b, eps, counter, delta)\u001b[0m\n\u001b[1;32m     33\u001b[0m counter\u001b[38;5;241m+\u001b[39m\u001b[38;5;241m=\u001b[39m\u001b[38;5;241m1\u001b[39m\n\u001b[1;32m     34\u001b[0m mid \u001b[38;5;241m=\u001b[39m (a\u001b[38;5;241m+\u001b[39mb)\u001b[38;5;241m/\u001b[39m\u001b[38;5;241m2\u001b[39m \n\u001b[0;32m---> 35\u001b[0m \u001b[38;5;28;01mif\u001b[39;00m \u001b[38;5;28;43mabs\u001b[39;49m\u001b[43m(\u001b[49m\u001b[43mf\u001b[49m\u001b[43m(\u001b[49m\u001b[43mmid\u001b[49m\u001b[43m)\u001b[49m\u001b[43m)\u001b[49m\u001b[43m \u001b[49m\u001b[38;5;241;43m<\u001b[39;49m\u001b[43m \u001b[49m\u001b[43meps\u001b[49m:\n\u001b[1;32m     36\u001b[0m     \u001b[38;5;28;01mreturn\u001b[39;00m mid, counter\n\u001b[1;32m     37\u001b[0m \u001b[38;5;28;01mif\u001b[39;00m sgn(f(mid)) \u001b[38;5;241m==\u001b[39m sgn(f(a)):\n",
      "File \u001b[0;32m~/.local/lib/python3.10/site-packages/mpmath/ctx_mp_python.py:179\u001b[0m, in \u001b[0;36m_mpf.__lt__\u001b[0;34m(s, t)\u001b[0m\n\u001b[0;32m--> 179\u001b[0m \u001b[38;5;28;01mdef\u001b[39;00m \u001b[38;5;21m__lt__\u001b[39m(s, t): \u001b[38;5;28;01mreturn\u001b[39;00m \u001b[43ms\u001b[49m\u001b[38;5;241;43m.\u001b[39;49m\u001b[43m_cmp\u001b[49m\u001b[43m(\u001b[49m\u001b[43mt\u001b[49m\u001b[43m,\u001b[49m\u001b[43m \u001b[49m\u001b[43mmpf_lt\u001b[49m\u001b[43m)\u001b[49m\n",
      "File \u001b[0;32m~/.local/lib/python3.10/site-packages/mpmath/ctx_mp_python.py:173\u001b[0m, in \u001b[0;36m_mpf._cmp\u001b[0;34m(s, t, func)\u001b[0m\n\u001b[1;32m    171\u001b[0m     t \u001b[38;5;241m=\u001b[39m t\u001b[38;5;241m.\u001b[39m_mpf_\n\u001b[1;32m    172\u001b[0m \u001b[38;5;28;01melse\u001b[39;00m:\n\u001b[0;32m--> 173\u001b[0m     t \u001b[38;5;241m=\u001b[39m \u001b[43ms\u001b[49m\u001b[38;5;241;43m.\u001b[39;49m\u001b[43mmpf_convert_rhs\u001b[49m\u001b[43m(\u001b[49m\u001b[43mt\u001b[49m\u001b[43m)\u001b[49m\n\u001b[1;32m    174\u001b[0m     \u001b[38;5;28;01mif\u001b[39;00m t \u001b[38;5;129;01mis\u001b[39;00m \u001b[38;5;28mNotImplemented\u001b[39m:\n\u001b[1;32m    175\u001b[0m         \u001b[38;5;28;01mreturn\u001b[39;00m t\n",
      "File \u001b[0;32m~/.local/lib/python3.10/site-packages/mpmath/ctx_mp_python.py:103\u001b[0m, in \u001b[0;36m_mpf.mpf_convert_rhs\u001b[0;34m(cls, x)\u001b[0m\n\u001b[1;32m    100\u001b[0m \u001b[38;5;129m@classmethod\u001b[39m\n\u001b[1;32m    101\u001b[0m \u001b[38;5;28;01mdef\u001b[39;00m \u001b[38;5;21mmpf_convert_rhs\u001b[39m(\u001b[38;5;28mcls\u001b[39m, x):\n\u001b[1;32m    102\u001b[0m     \u001b[38;5;28;01mif\u001b[39;00m \u001b[38;5;28misinstance\u001b[39m(x, int_types): \u001b[38;5;28;01mreturn\u001b[39;00m from_int(x)\n\u001b[0;32m--> 103\u001b[0m     \u001b[38;5;28;01mif\u001b[39;00m \u001b[38;5;28misinstance\u001b[39m(x, \u001b[38;5;28mfloat\u001b[39m): \u001b[38;5;28;01mreturn\u001b[39;00m \u001b[43mfrom_float\u001b[49m\u001b[43m(\u001b[49m\u001b[43mx\u001b[49m\u001b[43m)\u001b[49m\n\u001b[1;32m    104\u001b[0m     \u001b[38;5;28;01mif\u001b[39;00m \u001b[38;5;28misinstance\u001b[39m(x, complex_types): \u001b[38;5;28;01mreturn\u001b[39;00m \u001b[38;5;28mcls\u001b[39m\u001b[38;5;241m.\u001b[39mcontext\u001b[38;5;241m.\u001b[39mmpc(x)\n\u001b[1;32m    105\u001b[0m     \u001b[38;5;28;01mif\u001b[39;00m \u001b[38;5;28misinstance\u001b[39m(x, rational\u001b[38;5;241m.\u001b[39mmpq):\n",
      "File \u001b[0;32m~/.local/lib/python3.10/site-packages/mpmath/libmp/libmpf.py:427\u001b[0m, in \u001b[0;36mfrom_float\u001b[0;34m(x, prec, rnd)\u001b[0m\n\u001b[1;32m    425\u001b[0m \u001b[38;5;28;01mif\u001b[39;00m x \u001b[38;5;241m==\u001b[39m math_float_inf: \u001b[38;5;28;01mreturn\u001b[39;00m finf\n\u001b[1;32m    426\u001b[0m \u001b[38;5;28;01mif\u001b[39;00m x \u001b[38;5;241m==\u001b[39m \u001b[38;5;241m-\u001b[39mmath_float_inf: \u001b[38;5;28;01mreturn\u001b[39;00m fninf\n\u001b[0;32m--> 427\u001b[0m \u001b[38;5;28;01mreturn\u001b[39;00m \u001b[43mfrom_man_exp\u001b[49m\u001b[43m(\u001b[49m\u001b[38;5;28;43mint\u001b[39;49m\u001b[43m(\u001b[49m\u001b[43mm\u001b[49m\u001b[38;5;241;43m*\u001b[39;49m\u001b[43m(\u001b[49m\u001b[38;5;241;43m1\u001b[39;49m\u001b[38;5;241;43m<<\u001b[39;49m\u001b[38;5;241;43m53\u001b[39;49m\u001b[43m)\u001b[49m\u001b[43m)\u001b[49m\u001b[43m,\u001b[49m\u001b[43m \u001b[49m\u001b[43me\u001b[49m\u001b[38;5;241;43m-\u001b[39;49m\u001b[38;5;241;43m53\u001b[39;49m\u001b[43m,\u001b[49m\u001b[43m \u001b[49m\u001b[43mprec\u001b[49m\u001b[43m,\u001b[49m\u001b[43m \u001b[49m\u001b[43mrnd\u001b[49m\u001b[43m)\u001b[49m\n",
      "File \u001b[0;32m~/.local/lib/python3.10/site-packages/mpmath/libmp/libmpf.py:302\u001b[0m, in \u001b[0;36mfrom_man_exp\u001b[0;34m(man, exp, prec, rnd)\u001b[0m\n\u001b[1;32m    300\u001b[0m     bc \u001b[38;5;241m=\u001b[39m bctable[\u001b[38;5;28mint\u001b[39m(man)]\n\u001b[1;32m    301\u001b[0m \u001b[38;5;28;01melse\u001b[39;00m:\n\u001b[0;32m--> 302\u001b[0m     bc \u001b[38;5;241m=\u001b[39m \u001b[43mbitcount\u001b[49m\u001b[43m(\u001b[49m\u001b[43mman\u001b[49m\u001b[43m)\u001b[49m\n\u001b[1;32m    303\u001b[0m \u001b[38;5;28;01mif\u001b[39;00m \u001b[38;5;129;01mnot\u001b[39;00m prec:\n\u001b[1;32m    304\u001b[0m     \u001b[38;5;28;01mif\u001b[39;00m \u001b[38;5;129;01mnot\u001b[39;00m man:\n",
      "File \u001b[0;32m~/.local/lib/python3.10/site-packages/mpmath/libmp/libintmath.py:93\u001b[0m, in \u001b[0;36mpython_bitcount\u001b[0;34m(n)\u001b[0m\n\u001b[1;32m     91\u001b[0m \u001b[38;5;28;01mdef\u001b[39;00m \u001b[38;5;21mpython_bitcount\u001b[39m(n):\n\u001b[1;32m     92\u001b[0m \u001b[38;5;250m    \u001b[39m\u001b[38;5;124;03m\"\"\"Calculate bit size of the nonnegative integer n.\"\"\"\u001b[39;00m\n\u001b[0;32m---> 93\u001b[0m     bc \u001b[38;5;241m=\u001b[39m \u001b[43mbisect\u001b[49m\u001b[43m(\u001b[49m\u001b[43mpowers\u001b[49m\u001b[43m,\u001b[49m\u001b[43m \u001b[49m\u001b[43mn\u001b[49m\u001b[43m)\u001b[49m\n\u001b[1;32m     94\u001b[0m     \u001b[38;5;28;01mif\u001b[39;00m bc \u001b[38;5;241m!=\u001b[39m \u001b[38;5;241m300\u001b[39m:\n\u001b[1;32m     95\u001b[0m         \u001b[38;5;28;01mreturn\u001b[39;00m bc\n",
      "\u001b[0;31mRecursionError\u001b[0m: maximum recursion depth exceeded in comparison"
     ]
    }
   ],
   "source": [
    "a1 = 3/2 * mp.pi\n",
    "b1 = 2*mp.pi \n",
    "eps = 1e-14\n",
    "result, counter = bisection(f1,a1,b1,eps)\n",
    "print(\"metoda bisekcji: znalezione miejsce zerowe: \",result,\" liczba iteracji: \",counter) \n",
    "\n",
    "result, counter = newton_method(f1,f1prim,a1,b1,eps)\n",
    "print(\"metoda stycznych: znalezione miejsce zerowe: \",result,\" liczba iteracji: \",counter) \n",
    "\n",
    "result, counter = secant_method(f1,a1,b1,eps)\n",
    "print(\"metoda siecznych: znalezione miejsce zerowe: \",result,\" liczba iteracji: \",counter) \n"
   ]
  },
  {
   "cell_type": "code",
   "execution_count": 64,
   "metadata": {},
   "outputs": [
    {
     "name": "stdout",
     "output_type": "stream",
     "text": [
      "metoda bisekcji: znalezione miejsce zerowe:  0.860333589019393  liczba iteracji:  45\n",
      "metoda stycznych: znalezione miejsce zerowe:  0.86033358901938  liczba iteracji:  28\n",
      "metoda siecznych: znalezione miejsce zerowe:  0.86033358901938  liczba iteracji:  22\n"
     ]
    }
   ],
   "source": [
    "a2 = 0 + 1e-3\n",
    "b2 = mp.pi/2 -1e-7\n",
    "eps = 1e-13\n",
    "\n",
    "result, counter = bisection(f2,a2,b2,eps)\n",
    "print(\"metoda bisekcji: znalezione miejsce zerowe: \",result,\" liczba iteracji: \",counter) \n",
    "\n",
    "result, counter = newton_method(f2,f2prim,a2,b2,eps)\n",
    "print(\"metoda stycznych: znalezione miejsce zerowe: \",result,\" liczba iteracji: \",counter) \n",
    "\n",
    "result, counter = secant_method(f2,a2,b2,eps)\n",
    "print(\"metoda siecznych: znalezione miejsce zerowe: \",result,\" liczba iteracji: \",counter)"
   ]
  },
  {
   "cell_type": "code",
   "execution_count": 61,
   "metadata": {},
   "outputs": [
    {
     "name": "stdout",
     "output_type": "stream",
     "text": [
      "metoda bisekcji: znalezione miejsce zerowe:  1.82940673828125  liczba iteracji:  15\n",
      "metoda stycznych: znalezione miejsce zerowe:  1.82938360193386  liczba iteracji:  7\n",
      "metoda siecznych: znalezione miejsce zerowe:  1.82938360193385  liczba iteracji:  11\n"
     ]
    }
   ],
   "source": [
    "a3 = 1\n",
    "b3 = 3 \n",
    "eps = 1e-13\n",
    "\n",
    "result, counter = bisection(f3,a3,b3,eps)\n",
    "print(\"metoda bisekcji: znalezione miejsce zerowe: \",result,\" liczba iteracji: \",counter) \n",
    "\n",
    "result, counter = newton_method(f3,f3prim,a3,b3,eps)\n",
    "print(\"metoda stycznych: znalezione miejsce zerowe: \",result,\" liczba iteracji: \",counter) \n",
    "\n",
    "result, counter = secant_method(f3,a3,b3,eps)\n",
    "print(\"metoda siecznych: znalezione miejsce zerowe: \",result,\" liczba iteracji: \",counter)"
   ]
  },
  {
   "cell_type": "code",
   "execution_count": null,
   "metadata": {},
   "outputs": [],
   "source": [
    "def newton_with_bisection"
   ]
  }
 ],
 "metadata": {
  "kernelspec": {
   "display_name": "Python 3",
   "language": "python",
   "name": "python3"
  },
  "language_info": {
   "codemirror_mode": {
    "name": "ipython",
    "version": 3
   },
   "file_extension": ".py",
   "mimetype": "text/x-python",
   "name": "python",
   "nbconvert_exporter": "python",
   "pygments_lexer": "ipython3",
   "version": "3.10.12"
  }
 },
 "nbformat": 4,
 "nbformat_minor": 2
}
