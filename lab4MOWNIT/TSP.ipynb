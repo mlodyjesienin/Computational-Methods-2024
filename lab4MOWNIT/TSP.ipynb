{
 "cells": [
  {
   "cell_type": "code",
   "execution_count": 2,
   "metadata": {},
   "outputs": [],
   "source": [
    "import numpy as np"
   ]
  },
  {
   "cell_type": "code",
   "execution_count": 3,
   "metadata": {},
   "outputs": [
    {
     "name": "stdout",
     "output_type": "stream",
     "text": [
      "[[ 0.          8.24621125  3.60555128  5.        ]\n",
      " [ 8.24621125  0.          6.08276253 13.        ]\n",
      " [ 3.60555128  6.08276253  0.          8.48528137]\n",
      " [ 5.         13.          8.48528137  0.        ]]\n"
     ]
    }
   ],
   "source": [
    "class TSP:\n",
    "    def __init__(self,Points,T,max_iter = 1000):\n",
    "        self.Points = np.array(Points)\n",
    "        self.n = len(Points)\n",
    "        self.T = T\n",
    "        self.max_iter = max_iter\n",
    "        self.DIST = self.distance_matrix()\n",
    "        current = np.random.permutation(self.n) \n",
    "        cost = self.calculate_cost(self.current)\n",
    "        best = self.current \n",
    "        lowest_cost = self.cost \n",
    "\n",
    "    def distance_matrix(self):\n",
    "        return   np.array([[np.linalg.norm(self.Points[i]- self.Points[j]) for i in range(self.n)] for j in range(self.n)])\n",
    "    \n",
    "    def calculate_cost(self,permutation):\n",
    "        result = 0\n",
    "        for i in range(1,self.n):\n",
    "            result+= self.DIST[permutation[i]][permutation[i-1]]\n",
    "        return result \n",
    "    \n",
    "    def arbitrary_swap(self):\n",
    "        i,j = np.random.choice(self.n, size=2, replace=False)\n",
    "        nghb = self.current.copy()\n",
    "        nghb[i],nghb[j] = nghb[j],nghb[i] \n",
    "        return nghb \n",
    "    \n",
    "    def consecutive_swap(self):\n",
    "        i = np.random.randint(0,self.n-1)\n",
    "        nghb = self.current.copy()\n",
    "        nghb[i],nghb[i+1] = nghb[i+1],nghb[i] \n",
    "        return nghb \n",
    "    \n",
    "    def draw(self):\n",
    "        return 0\n",
    "    \n",
    "    def new_best(self,new,new_cost):\n",
    "        self.best = new \n",
    "        self.lowest_cost = new_cost \n",
    "        self.draw()\n",
    "    \n",
    "    def find_minimum(self):\n",
    "        k = 0.95\n",
    "        for iter in range(self.max_iter):\n",
    "            nghb = self.consecutive_swap()\n",
    "            nghb_cost = self.calculate_cost(nghb)\n",
    "            T =  T*k \n",
    "            if nghb_cost < self.lowest_cost:\n",
    "                self.new_best(nghb,nghb_cost)\n",
    "            if np.exp(-(nghb_cost-self.cost)/T) >= np.random.rand():\n",
    "                self.current = nghb \n",
    "                self.cost = nghb_cost \n",
    "\n",
    "        return self.best, self.lowest_cost\n",
    "T=0\n",
    "A = [3,4]\n",
    "B = [5,12]\n",
    "C = [6,6]\n",
    "D = [0,0] \n",
    "Points = [A,B,C,D] \n",
    "X = TSP(Points,T) \n",
    "A = X.distance_matrix()\n",
    "print(A)"
   ]
  },
  {
   "cell_type": "code",
   "execution_count": 4,
   "metadata": {},
   "outputs": [
    {
     "name": "stdout",
     "output_type": "stream",
     "text": [
      "[[2, 3, 4, 5], [3, 4, 5, 6], [4, 5, 6, 7], [5, 6, 7, 8]]\n"
     ]
    }
   ],
   "source": [
    "\n",
    "\n",
    "print(B)"
   ]
  }
 ],
 "metadata": {
  "kernelspec": {
   "display_name": "Python 3",
   "language": "python",
   "name": "python3"
  },
  "language_info": {
   "codemirror_mode": {
    "name": "ipython",
    "version": 3
   },
   "file_extension": ".py",
   "mimetype": "text/x-python",
   "name": "python",
   "nbconvert_exporter": "python",
   "pygments_lexer": "ipython3",
   "version": "3.10.12"
  }
 },
 "nbformat": 4,
 "nbformat_minor": 2
}
