{
 "cells": [
  {
   "cell_type": "code",
   "execution_count": 1,
   "metadata": {},
   "outputs": [],
   "source": [
    "import numpy as np"
   ]
  },
  {
   "cell_type": "code",
   "execution_count": 32,
   "metadata": {},
   "outputs": [
    {
     "name": "stdout",
     "output_type": "stream",
     "text": [
      "real Eigenvalue:  (2.1960521742515207+0j)\n",
      "found eigen value:  2.196136795934642\n",
      "\n",
      "real Eigenvector:  [-0.45599088+0.j -0.52319055+0.j -0.32953269+0.j -0.15285284+0.j\n",
      " -0.62160131+0.j]\n",
      "\n",
      "found eigenvector:  [0.4559855  0.52319455 0.32951568 0.15286064 0.62160898]\n"
     ]
    }
   ],
   "source": [
    "eps = 10**-3\n",
    "n = 5\n",
    "error =  100\n",
    "Matrix = np.random.rand(n, n)\n",
    "\n",
    "\n",
    "vector = np.ones(n)\n",
    "max_val = 0 \n",
    "\n",
    "while error > eps:\n",
    "    orig_vector = vector.copy() \n",
    "    vector = Matrix @ vector \n",
    "\n",
    "    max_val = np.max(np.abs(vector))\n",
    "\n",
    "    error = np.linalg.norm(vector - max_val * orig_vector)\n",
    "\n",
    "    vector = vector / max_val \n",
    "\n",
    "magnitude = np.linalg.norm(vector)\n",
    "\n",
    "greatest_eigenvalue = max_val \n",
    "greatest_eigenvector = vector / magnitude\n",
    "\n",
    "eigenvalues, eigenvectors = np.linalg.eig(Matrix)\n",
    "\n",
    "real_eigenvalue =  max(eigenvalues)\n",
    "index = np.where(eigenvalues == real_eigenvalue)[0][0]\n",
    "\n",
    "real_eigenvector = eigenvectors[:, index]\n",
    "\n",
    "print(\"real Eigenvalue: \", real_eigenvalue)\n",
    "print(\"found eigen value: \", greatest_eigenvalue)\n",
    "print()\n",
    "print(\"real Eigenvector: \", real_eigenvector)\n",
    "print()\n",
    "print(\"found eigenvector: \", greatest_eigenvector)\n"
   ]
  }
 ],
 "metadata": {
  "kernelspec": {
   "display_name": "Python 3",
   "language": "python",
   "name": "python3"
  },
  "language_info": {
   "codemirror_mode": {
    "name": "ipython",
    "version": 3
   },
   "file_extension": ".py",
   "mimetype": "text/x-python",
   "name": "python",
   "nbconvert_exporter": "python",
   "pygments_lexer": "ipython3",
   "version": "3.10.12"
  }
 },
 "nbformat": 4,
 "nbformat_minor": 2
}
