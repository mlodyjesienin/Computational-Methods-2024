{
 "cells": [
  {
   "cell_type": "code",
   "execution_count": 4,
   "metadata": {},
   "outputs": [],
   "source": [
    "import numpy as np \n",
    "import scipy.linalg"
   ]
  },
  {
   "cell_type": "code",
   "execution_count": 27,
   "metadata": {},
   "outputs": [
    {
     "name": "stdout",
     "output_type": "stream",
     "text": [
      "Eigenvectors:  [[-0.58413494 -0.92762181  0.45844152]\n",
      " [-0.64234958  0.18649648 -0.54232514]\n",
      " [-0.49615864  0.32363072  0.70407018]]\n",
      "found eigen vector:  [ 0.65113044 -0.77027142  1.        ]\n",
      "\n",
      "Eigenvalues:  [528.00336694  -4.26070932   0.61433003]\n",
      "\n",
      "found eigenvalue:  528.0033669350553\n"
     ]
    }
   ],
   "source": [
    "eps = 10**-3\n",
    "n = 3\n",
    "sigma = 0 \n",
    "\n",
    "error =  float('inf')\n",
    "\n",
    "A  = np.random.rand(n, n)\n",
    "#A = np.array([[2, -1, 0],\n",
    " #             [-1, 2, -1],\n",
    "  #            [0, -1, 2]])\n",
    "\n",
    "B = np.ones(n)\n",
    "\n",
    "lu, piv = scipy.linalg.lu_factor(A)\n",
    "\n",
    "\n",
    "max_val = 0 \n",
    "\n",
    "for i in range(100):\n",
    "    X = scipy.linalg.lu_solve((lu,piv),B) \n",
    "    B = X \n",
    "    max_val = np.max(np.abs(B))\n",
    "\n",
    "    B = B / max_val \n",
    "\n",
    "magnitude = np.linalg.norm(B)\n",
    "\n",
    "greatest_eigenvalue = max_val \n",
    "greatest_eigenvector = B \n",
    "\n",
    "eigenvalues, eigenvectors = np.linalg.eig(np.linalg.inv(A))\n",
    "eig, eig2 = np.linalg.eig(A)\n",
    "\n",
    "print(\"Eigenvectors: \", eig2)\n",
    "print(\"found eigen vector: \", greatest_eigenvector)\n",
    "print()\n",
    "print(\"Eigenvalues: \", eigenvalues)\n",
    "print()\n",
    "print(\"found eigenvalue: \",greatest_eigenvalue )\n"
   ]
  }
 ],
 "metadata": {
  "kernelspec": {
   "display_name": "Python 3",
   "language": "python",
   "name": "python3"
  },
  "language_info": {
   "codemirror_mode": {
    "name": "ipython",
    "version": 3
   },
   "file_extension": ".py",
   "mimetype": "text/x-python",
   "name": "python",
   "nbconvert_exporter": "python",
   "pygments_lexer": "ipython3",
   "version": "3.10.12"
  }
 },
 "nbformat": 4,
 "nbformat_minor": 2
}
